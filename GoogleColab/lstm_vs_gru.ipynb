{
  "nbformat": 4,
  "nbformat_minor": 0,
  "metadata": {
    "colab": {
      "name": "lstm_vs_gru.ipynb",
      "provenance": [],
      "collapsed_sections": [],
      "toc_visible": true
    },
    "kernelspec": {
      "name": "python3",
      "display_name": "Python 3"
    }
  },
  "cells": [
    {
      "cell_type": "markdown",
      "metadata": {
        "id": "9UNrLLkhGCoJ",
        "colab_type": "text"
      },
      "source": [
        "# Network comparison with more data - LSTM vs GRU "
      ]
    },
    {
      "cell_type": "code",
      "metadata": {
        "id": "QH1loLkBGShV",
        "colab_type": "code",
        "colab": {}
      },
      "source": [
        "# -*- coding: utf-8 -*-\n",
        "import numpy as np\n",
        "import pandas as pd\n",
        "import matplotlib.pyplot as plt\n",
        "\n",
        "\n",
        "%tensorflow_version 2.x\n",
        "import tensorflow as tf\n",
        "from tensorflow import keras"
      ],
      "execution_count": 0,
      "outputs": []
    },
    {
      "cell_type": "code",
      "metadata": {
        "id": "Obfpuzl3GmHn",
        "colab_type": "code",
        "colab": {}
      },
      "source": [
        "\"\"\" optional: select GPU Hardware acceleration \"\"\"\n",
        "device_name = tf.test.gpu_device_name()\n",
        "if device_name != '/device:GPU:0':\n",
        "  raise SystemError('GPU device not found')\n",
        "print('Found GPU at: {}'.format(device_name))"
      ],
      "execution_count": 0,
      "outputs": []
    },
    {
      "cell_type": "code",
      "metadata": {
        "id": "GoHjYowTHTix",
        "colab_type": "code",
        "colab": {
          "base_uri": "https://localhost:8080/",
          "height": 411
        },
        "outputId": "237d1485-68d8-411f-a814-12903333e449"
      },
      "source": [
        "!pip install quandl"
      ],
      "execution_count": 3,
      "outputs": [
        {
          "output_type": "stream",
          "text": [
            "Collecting quandl\n",
            "  Downloading https://files.pythonhosted.org/packages/07/ab/8cd479fba8a9b197a43a0d55dd534b066fb8e5a0a04b5c0384cbc5d663aa/Quandl-3.5.0-py2.py3-none-any.whl\n",
            "Requirement already satisfied: pandas>=0.14 in /usr/local/lib/python3.6/dist-packages (from quandl) (1.0.3)\n",
            "Requirement already satisfied: more-itertools in /usr/local/lib/python3.6/dist-packages (from quandl) (8.2.0)\n",
            "Requirement already satisfied: numpy>=1.8 in /usr/local/lib/python3.6/dist-packages (from quandl) (1.18.2)\n",
            "Requirement already satisfied: python-dateutil in /usr/local/lib/python3.6/dist-packages (from quandl) (2.8.1)\n",
            "Collecting inflection>=0.3.1\n",
            "  Downloading https://files.pythonhosted.org/packages/d5/35/a6eb45b4e2356fe688b21570864d4aa0d0a880ce387defe9c589112077f8/inflection-0.3.1.tar.gz\n",
            "Requirement already satisfied: requests>=2.7.0 in /usr/local/lib/python3.6/dist-packages (from quandl) (2.21.0)\n",
            "Requirement already satisfied: six in /usr/local/lib/python3.6/dist-packages (from quandl) (1.12.0)\n",
            "Requirement already satisfied: pytz>=2017.2 in /usr/local/lib/python3.6/dist-packages (from pandas>=0.14->quandl) (2018.9)\n",
            "Requirement already satisfied: chardet<3.1.0,>=3.0.2 in /usr/local/lib/python3.6/dist-packages (from requests>=2.7.0->quandl) (3.0.4)\n",
            "Requirement already satisfied: certifi>=2017.4.17 in /usr/local/lib/python3.6/dist-packages (from requests>=2.7.0->quandl) (2019.11.28)\n",
            "Requirement already satisfied: idna<2.9,>=2.5 in /usr/local/lib/python3.6/dist-packages (from requests>=2.7.0->quandl) (2.8)\n",
            "Requirement already satisfied: urllib3<1.25,>=1.21.1 in /usr/local/lib/python3.6/dist-packages (from requests>=2.7.0->quandl) (1.24.3)\n",
            "Building wheels for collected packages: inflection\n",
            "  Building wheel for inflection (setup.py) ... \u001b[?25l\u001b[?25hdone\n",
            "  Created wheel for inflection: filename=inflection-0.3.1-cp36-none-any.whl size=6077 sha256=3306bf1cd5794a7bd57798e4bb0e11bf800089ed2025a547c8a84626a06d423f\n",
            "  Stored in directory: /root/.cache/pip/wheels/9f/5a/d3/6fc3bf6516d2a3eb7e18f9f28b472110b59325f3f258fe9211\n",
            "Successfully built inflection\n",
            "Installing collected packages: inflection, quandl\n",
            "Successfully installed inflection-0.3.1 quandl-3.5.0\n"
          ],
          "name": "stdout"
        }
      ]
    },
    {
      "cell_type": "code",
      "metadata": {
        "id": "US9jVAFKG6nX",
        "colab_type": "code",
        "colab": {}
      },
      "source": [
        "\"\"\" Import required classes \"\"\"\n",
        "import quandl \n",
        "from dataprep_class import Dataprep"
      ],
      "execution_count": 0,
      "outputs": []
    },
    {
      "cell_type": "code",
      "metadata": {
        "id": "4XyCJ6HoHSE6",
        "colab_type": "code",
        "colab": {
          "base_uri": "https://localhost:8080/",
          "height": 1000
        },
        "outputId": "b037ddcb-69aa-423c-f267-b87a1adf09ee"
      },
      "source": [
        "quandl.ApiConfig.api_key = \"Ha9a4yRKHowJC_sQxSPD\"\n",
        "\n",
        "\"\"\" commodity prices \"\"\"\n",
        "oil = quandl.get(\"EIA/PET_RWTC_D\")\n",
        "print(oil.head())\n",
        "print(oil.shape)\n",
        "\n",
        "gold = quandl.get(\"LBMA/GOLD\", start_date = \"1960-12-01\")\n",
        "print(gold.head())\n",
        "print(gold.shape)\n",
        "\n",
        "\"\"\" equity prices \"\"\"\n",
        "msft = quandl.get(\"EOD/MSFT\")\n",
        "print(msft.head())\n",
        "print(msft.shape)\n",
        "\n",
        "hd = quandl.get(\"EOD/HD\")\n",
        "print(hd.head())\n",
        "print(hd.shape)\n",
        "\n",
        "dis = quandl.get(\"EOD/DIS\")\n",
        "print(dis.head())\n",
        "print(dis.shape)\n",
        "\n",
        "ba = quandl.get(\"EOD/BA\")\n",
        "print(ba.head())\n",
        "print(ba.shape)\n",
        "\n",
        "aapl = quandl.get(\"EOD/aapl\")\n",
        "print(aapl.head())\n",
        "print(aapl.shape)"
      ],
      "execution_count": 18,
      "outputs": [
        {
          "output_type": "stream",
          "text": [
            "            Value\n",
            "Date             \n",
            "1986-01-02  25.56\n",
            "1986-01-03  26.00\n",
            "1986-01-06  26.53\n",
            "1986-01-07  25.85\n",
            "1986-01-08  25.87\n",
            "(8652, 1)\n",
            "            USD (AM)  USD (PM)  GBP (AM)  GBP (PM)  EURO (AM)  EURO (PM)\n",
            "Date                                                                    \n",
            "1968-01-02     35.18       NaN    14.641       NaN        NaN        NaN\n",
            "1968-01-03     35.16       NaN    14.617       NaN        NaN        NaN\n",
            "1968-01-04     35.14       NaN    14.603       NaN        NaN        NaN\n",
            "1968-01-05     35.14       NaN    14.597       NaN        NaN        NaN\n",
            "1968-01-08     35.14       NaN    14.586       NaN        NaN        NaN\n",
            "(13210, 6)\n",
            "               Open   High    Low  ...    Adj_Low  Adj_Close   Adj_Volume\n",
            "Date                               ...                                   \n",
            "2013-09-03  31.7500  32.07  31.29  ...  27.160215  27.672344  154507000.0\n",
            "2013-09-04  31.3900  31.47  31.11  ...  27.003972  27.077754  142320600.0\n",
            "2013-09-05  31.1000  31.44  30.95  ...  26.865090  27.112474   71644900.0\n",
            "2013-09-06  31.3100  31.39  31.13  ...  27.021333  27.040429   75434900.0\n",
            "2013-09-09  31.2208  31.79  31.20  ...  27.082094  27.477041   49628500.0\n",
            "\n",
            "[5 rows x 12 columns]\n",
            "(1090, 12)\n",
            "             Open   High    Low  ...    Adj_Low  Adj_Close  Adj_Volume\n",
            "Date                             ...                                  \n",
            "2013-09-03  74.83  75.25  73.68  ...  63.653729  63.843792   7802800.0\n",
            "2013-09-04  73.98  74.51  73.74  ...  63.705564  64.051133   8271600.0\n",
            "2013-09-05  74.07  74.21  72.84  ...  62.928035  63.057623  11039000.0\n",
            "2013-09-06  73.55  73.56  72.21  ...  62.383765  62.807086   9968400.0\n",
            "2013-09-09  72.98  73.79  72.90  ...  62.979870  63.567337   5781800.0\n",
            "\n",
            "[5 rows x 12 columns]\n",
            "(1090, 12)\n",
            "             Open    High    Low  ...    Adj_Low  Adj_Close  Adj_Volume\n",
            "Date                              ...                                  \n",
            "2013-09-03  61.42  61.990  60.60  ...  55.105040  55.405117   7016400.0\n",
            "2013-09-04  60.92  61.220  60.52  ...  55.032294  55.568796  14014600.0\n",
            "2013-09-05  61.07  61.600  60.96  ...  55.432397  55.741567   6356600.0\n",
            "2013-09-06  61.47  61.830  60.63  ...  55.132320  55.823406   7319400.0\n",
            "2013-09-09  61.60  61.835  61.27  ...  55.714288  56.005271   7224500.0\n",
            "\n",
            "[5 rows x 12 columns]\n",
            "(1090, 12)\n",
            "              Open      High       Low  ...    Adj_Low  Adj_Close  Adj_Volume\n",
            "Date                                    ...                                  \n",
            "2013-09-03  105.13  105.8300  104.6600  ...  89.068156  89.366014   3659800.0\n",
            "2013-09-04  105.05  107.1200  104.6200  ...  89.034115  90.523406   3837500.0\n",
            "2013-09-05  106.16  106.9770  105.6702  ...  89.927860  90.761693   2590500.0\n",
            "2013-09-06  107.00  107.3799  105.1100  ...  89.451116  90.268099   3265200.0\n",
            "2013-09-09  106.58  107.3800  106.5550  ...  90.680846  91.221246   2907600.0\n",
            "\n",
            "[5 rows x 12 columns]\n",
            "(1090, 12)\n",
            "              Open    High     Low  ...    Adj_Low  Adj_Close  Adj_Volume\n",
            "Date                                ...                                  \n",
            "2013-09-03  493.10  500.60  487.35  ...  62.134674  62.291493  82982200.0\n",
            "2013-09-04  499.56  502.24  496.28  ...  63.273204  63.580594  86258200.0\n",
            "2013-09-05  500.25  500.68  493.64  ...  62.936617  63.144434  59091900.0\n",
            "2013-09-06  498.44  499.38  489.95  ...  62.466161  63.520544  89881400.0\n",
            "2013-09-09  505.00  507.92  503.48  ...  64.191168  64.534129  85171800.0\n",
            "\n",
            "[5 rows x 12 columns]\n",
            "(1090, 12)\n"
          ],
          "name": "stdout"
        }
      ]
    },
    {
      "cell_type": "code",
      "metadata": {
        "id": "sS3WP47GHOa8",
        "colab_type": "code",
        "colab": {
          "base_uri": "https://localhost:8080/",
          "height": 34
        },
        "outputId": "cb05c636-d697-4936-8b25-39856adac1b1"
      },
      "source": [
        "print(ba.shape[1])"
      ],
      "execution_count": 24,
      "outputs": [
        {
          "output_type": "stream",
          "text": [
            "12\n"
          ],
          "name": "stdout"
        }
      ]
    },
    {
      "cell_type": "code",
      "metadata": {
        "id": "5Elcde_cR6Q8",
        "colab_type": "code",
        "colab": {
          "base_uri": "https://localhost:8080/",
          "height": 51
        },
        "outputId": "a1f3cab5-c624-46f3-e0fa-98ab80b782e7"
      },
      "source": [
        "data = ba\n",
        "colidx = 1\n",
        "data = data.iloc[::-1]\n",
        "data = data.reset_index()\n",
        "data.drop('Date', axis = 1, inplace = True)\n",
        "colidx -= 1\n",
        "data = data.to_numpy()\n",
        "data = data[:, colidx]\n",
        "\n",
        "print(data[0:10,...])"
      ],
      "execution_count": 25,
      "outputs": [
        {
          "output_type": "stream",
          "text": [
            "[295.81  296.41  295.54  295.135 298.04  298.88  296.35  295.08  296.05\n",
            " 292.64 ]\n"
          ],
          "name": "stdout"
        }
      ]
    },
    {
      "cell_type": "code",
      "metadata": {
        "id": "F3SX2HNOSbpS",
        "colab_type": "code",
        "colab": {}
      },
      "source": [
        ""
      ],
      "execution_count": 0,
      "outputs": []
    },
    {
      "cell_type": "code",
      "metadata": {
        "id": "aheTXweISeug",
        "colab_type": "code",
        "colab": {}
      },
      "source": [
        ""
      ],
      "execution_count": 0,
      "outputs": []
    }
  ]
}