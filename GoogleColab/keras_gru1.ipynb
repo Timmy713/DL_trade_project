{
  "nbformat": 4,
  "nbformat_minor": 0,
  "metadata": {
    "colab": {
      "name": "keras_gru1.ipynb",
      "provenance": [],
      "collapsed_sections": []
    },
    "kernelspec": {
      "name": "python3",
      "display_name": "Python 3"
    },
    "accelerator": "GPU"
  },
  "cells": [
    {
      "cell_type": "markdown",
      "metadata": {
        "id": "5kksxoUCLTUV",
        "colab_type": "text"
      },
      "source": [
        "# Tensorflow RNN on a GPU\n",
        "\n",
        "Goal: design a recurrent neural Network in Tensorflow and train it on a Colab GPU. \n"
      ]
    },
    {
      "cell_type": "code",
      "metadata": {
        "id": "W0wXtW3FLE-4",
        "colab_type": "code",
        "colab": {
          "base_uri": "https://localhost:8080/",
          "height": 34
        },
        "outputId": "2cce7ca2-2525-444c-b490-a3841e0d5e76"
      },
      "source": [
        "# -*- coding: utf-8 -*-\n",
        "\"\"\"\n",
        "Create first LSTM prediction system in Tensorflow to train on GPU\n",
        "\n",
        "\"\"\""
      ],
      "execution_count": 1,
      "outputs": [
        {
          "output_type": "execute_result",
          "data": {
            "text/plain": [
              "'\\nCreate first LSTM prediction system in Tensorflow to train on GPU\\n\\n'"
            ]
          },
          "metadata": {
            "tags": []
          },
          "execution_count": 1
        }
      ]
    },
    {
      "cell_type": "code",
      "metadata": {
        "id": "gz-OjqByLP9r",
        "colab_type": "code",
        "colab": {
          "base_uri": "https://localhost:8080/",
          "height": 34
        },
        "outputId": "7e2dac39-614e-45e9-94e8-c111a72eaafd"
      },
      "source": [
        "import numpy as np\n",
        "import pandas as pd\n",
        "import matplotlib.pyplot as plt\n",
        "\n",
        "%tensorflow_version 2.x\n",
        "import tensorflow as tf\n",
        "from tensorflow import keras"
      ],
      "execution_count": 1,
      "outputs": [
        {
          "output_type": "stream",
          "text": [
            "TensorFlow 2.x selected.\n"
          ],
          "name": "stdout"
        }
      ]
    },
    {
      "cell_type": "markdown",
      "metadata": {
        "id": "nTzqA19ZWz09",
        "colab_type": "text"
      },
      "source": [
        "Next, we need to connect to a Colab GPU"
      ]
    },
    {
      "cell_type": "code",
      "metadata": {
        "id": "BnmEnF68Wx_x",
        "colab_type": "code",
        "colab": {
          "base_uri": "https://localhost:8080/",
          "height": 34
        },
        "outputId": "2f8076a5-5288-42a5-dd0b-257498087c68"
      },
      "source": [
        "device_name = tf.test.gpu_device_name()\n",
        "if device_name != '/device:GPU:0':\n",
        "  raise SystemError('GPU device not found')\n",
        "print('Found GPU at: {}'.format(device_name))"
      ],
      "execution_count": 2,
      "outputs": [
        {
          "output_type": "stream",
          "text": [
            "Found GPU at: /device:GPU:0\n"
          ],
          "name": "stdout"
        }
      ]
    },
    {
      "cell_type": "markdown",
      "metadata": {
        "id": "rD0UjHPrNpyj",
        "colab_type": "text"
      },
      "source": [
        "# Loading and preprocessing data"
      ]
    },
    {
      "cell_type": "code",
      "metadata": {
        "id": "BjwMCG_MLQW0",
        "colab_type": "code",
        "colab": {
          "base_uri": "https://localhost:8080/",
          "height": 407
        },
        "outputId": "e77e1333-06d4-486f-b33d-ef4aa1a02151"
      },
      "source": [
        "!pip install quandl"
      ],
      "execution_count": 3,
      "outputs": [
        {
          "output_type": "stream",
          "text": [
            "Collecting quandl\n",
            "  Downloading https://files.pythonhosted.org/packages/07/ab/8cd479fba8a9b197a43a0d55dd534b066fb8e5a0a04b5c0384cbc5d663aa/Quandl-3.5.0-py2.py3-none-any.whl\n",
            "Requirement already satisfied: numpy>=1.8 in /usr/local/lib/python3.6/dist-packages (from quandl) (1.18.2)\n",
            "Collecting inflection>=0.3.1\n",
            "  Downloading https://files.pythonhosted.org/packages/d5/35/a6eb45b4e2356fe688b21570864d4aa0d0a880ce387defe9c589112077f8/inflection-0.3.1.tar.gz\n",
            "Requirement already satisfied: requests>=2.7.0 in /usr/local/lib/python3.6/dist-packages (from quandl) (2.21.0)\n",
            "Requirement already satisfied: six in /usr/local/lib/python3.6/dist-packages (from quandl) (1.12.0)\n",
            "Requirement already satisfied: python-dateutil in /usr/local/lib/python3.6/dist-packages (from quandl) (2.8.1)\n",
            "Requirement already satisfied: pandas>=0.14 in /usr/local/lib/python3.6/dist-packages (from quandl) (0.25.3)\n",
            "Requirement already satisfied: more-itertools in /usr/local/lib/python3.6/dist-packages (from quandl) (8.2.0)\n",
            "Requirement already satisfied: chardet<3.1.0,>=3.0.2 in /usr/local/lib/python3.6/dist-packages (from requests>=2.7.0->quandl) (3.0.4)\n",
            "Requirement already satisfied: idna<2.9,>=2.5 in /usr/local/lib/python3.6/dist-packages (from requests>=2.7.0->quandl) (2.8)\n",
            "Requirement already satisfied: certifi>=2017.4.17 in /usr/local/lib/python3.6/dist-packages (from requests>=2.7.0->quandl) (2019.11.28)\n",
            "Requirement already satisfied: urllib3<1.25,>=1.21.1 in /usr/local/lib/python3.6/dist-packages (from requests>=2.7.0->quandl) (1.24.3)\n",
            "Requirement already satisfied: pytz>=2017.2 in /usr/local/lib/python3.6/dist-packages (from pandas>=0.14->quandl) (2018.9)\n",
            "Building wheels for collected packages: inflection\n",
            "  Building wheel for inflection (setup.py) ... \u001b[?25l\u001b[?25hdone\n",
            "  Created wheel for inflection: filename=inflection-0.3.1-cp36-none-any.whl size=6077 sha256=540e9fb6ef7e956d534b91895ee6503ab0141009d5144dd5b408881217def287\n",
            "  Stored in directory: /root/.cache/pip/wheels/9f/5a/d3/6fc3bf6516d2a3eb7e18f9f28b472110b59325f3f258fe9211\n",
            "Successfully built inflection\n",
            "Installing collected packages: inflection, quandl\n",
            "Successfully installed inflection-0.3.1 quandl-3.5.0\n"
          ],
          "name": "stdout"
        }
      ]
    },
    {
      "cell_type": "code",
      "metadata": {
        "id": "O84a1KXbQ19J",
        "colab_type": "code",
        "colab": {}
      },
      "source": [
        "import quandl\n",
        "from dataprep_class import Dataprep"
      ],
      "execution_count": 0,
      "outputs": []
    },
    {
      "cell_type": "code",
      "metadata": {
        "id": "Ep06UD9rRAbB",
        "colab_type": "code",
        "colab": {
          "base_uri": "https://localhost:8080/",
          "height": 158
        },
        "outputId": "f6b0f1ea-bb73-448b-88fc-0b7188082a8b"
      },
      "source": [
        "quandl.ApiConfig.api_key = \"Ha9a4yRKHowJC_sQxSPD\"\n",
        "data = quandl.get(\"EIA/PET_RWTC_D\")\n",
        "print(data.head())\n",
        "print(data.shape)"
      ],
      "execution_count": 6,
      "outputs": [
        {
          "output_type": "stream",
          "text": [
            "            Value\n",
            "Date             \n",
            "1986-01-02  25.56\n",
            "1986-01-03  26.00\n",
            "1986-01-06  26.53\n",
            "1986-01-07  25.85\n",
            "1986-01-08  25.87\n",
            "(8639, 1)\n"
          ],
          "name": "stdout"
        }
      ]
    },
    {
      "cell_type": "code",
      "metadata": {
        "id": "TL0EP6xDRpBx",
        "colab_type": "code",
        "colab": {}
      },
      "source": [
        "# use methods from data_import.py\n",
        "data = data.iloc[::-1]\n",
        "data = data.reset_index()\n",
        "data.drop('Date', axis = 1, inplace = True)\n",
        "\n",
        "data = data.to_numpy()\n",
        "prices = np.delete(data, obj =  0, axis = 1)"
      ],
      "execution_count": 0,
      "outputs": []
    },
    {
      "cell_type": "code",
      "metadata": {
        "id": "EOxIbSUzSIUx",
        "colab_type": "code",
        "colab": {
          "base_uri": "https://localhost:8080/",
          "height": 296
        },
        "outputId": "83eeb307-b004-4734-9904-24898019119a"
      },
      "source": [
        "print(data.shape)\n",
        "prices = np.flip(data, axis = 0)\n",
        "plt.plot(prices[:,0])\n",
        "plt.xlabel(\"Date\")\n",
        "plt.ylabel(\"Prices\")\n",
        "plt.show()"
      ],
      "execution_count": 8,
      "outputs": [
        {
          "output_type": "stream",
          "text": [
            "(8639, 1)\n"
          ],
          "name": "stdout"
        },
        {
          "output_type": "display_data",
          "data": {
            "image/png": "[encoded data removed]",
            "text/plain": [
              "<Figure size 432x288 with 1 Axes>"
            ]
          },
          "metadata": {
            "tags": []
          }
        }
      ]
    },
    {
      "cell_type": "code",
      "metadata": {
        "id": "Ld6XpeMfTjAX",
        "colab_type": "code",
        "colab": {
          "base_uri": "https://localhost:8080/",
          "height": 34
        },
        "outputId": "356238de-442d-4f7e-8a77-74d91ee187bc"
      },
      "source": [
        "prep = Dataprep()\n",
        "scaled_data, scaler = prep.scaling(prices, \"MinMax\")\n",
        "\n",
        "x_train , y_train = prep.sliding_windows(scaled_data, wsize = 60, stepsize = 1)\n",
        "\n",
        "x_train, y_train, x_test, y_test, x_val, y_val = prep.train_test_split(x_train, y_train, train_percent = 0.8, validation = True, val_percent = 0.1)\n",
        "\n",
        "x_train = prep.rnn_reshape(x_train)\n",
        "x_test = prep.rnn_reshape(x_test)\n",
        "x_val = prep.rnn_reshape(x_val)\n",
        "\n",
        "print(x_train.shape, y_train.shape, x_test.shape, y_test.shape)"
      ],
      "execution_count": 9,
      "outputs": [
        {
          "output_type": "stream",
          "text": [
            "(6862, 60, 1) (6862, 1) (859, 60, 1) (859, 1)\n"
          ],
          "name": "stdout"
        }
      ]
    },
    {
      "cell_type": "markdown",
      "metadata": {
        "id": "ktaXhcJLT9HR",
        "colab_type": "text"
      },
      "source": [
        "# Build Neural Network"
      ]
    },
    {
      "cell_type": "code",
      "metadata": {
        "id": "cNTmgzIAT6xH",
        "colab_type": "code",
        "colab": {}
      },
      "source": [
        "class gru():\n",
        "    \"\"\" class to clean up keras lstm structure and advance training \"\"\"\n",
        "\n",
        "    def build(self, layers, units, timesteps, loss = 'mean_squared_error', dropout = True, l2_reg = False, dropout_rate = 0.2):\n",
        "        \"\"\"\n",
        "        Parameters\n",
        "        ----------\n",
        "        layers : integer - how many LSTM layers to use\n",
        "        units : integer - how many units per LSTM layer\n",
        "        timesteps : x_train.shape[1] (time steps per input frame)\n",
        "        loss : loss function\n",
        "        dropout : bool - use dropout or not\n",
        "        l2_reg : bool - use L2 regularization or not\n",
        "        dropout_rate : float between zero and one\n",
        "        -------\n",
        "        returns: compiled LSTM model\n",
        "        \"\"\"\n",
        "        if layers <= 0 or units <= 0:\n",
        "            raise ValueError(\"layers and units cannot be smaller or equal to zero\")\n",
        "        \n",
        "        if 0 > dropout_rate or dropout_rate > 1:\n",
        "            raise ValueError(\"dropout rate must be between zero and 1\")\n",
        "\n",
        "        if l2_reg:\n",
        "            reg = keras.regularizers.l2(0.001)\n",
        "        else:\n",
        "            reg = None\n",
        "\n",
        "        if not dropout:\n",
        "            dropout_rate = 0\n",
        "        \n",
        "\n",
        "        model = keras.models.Sequential()\n",
        "\n",
        "        if layers == 1:\n",
        "            model.add(keras.layers.GRU(units = 50, return_sequences = False, kernel_regularizer = reg, input_shape = (timesteps, 1))) \n",
        "            model.add(keras.layers.Dropout(dropout_rate))\n",
        "        \n",
        "\n",
        "        else:\n",
        "            model.add(keras.layers.GRU(units = 50, return_sequences = True, kernel_regularizer = reg, input_shape = (timesteps, 1))) \n",
        "            model.add(keras.layers.Dropout(dropout_rate))\n",
        "\n",
        "            for i in range(layers - 2):\n",
        "                model.add(keras.layers.GRU(units = 50, return_sequences = True, kernel_regularizer = reg)) \n",
        "                model.add(keras.layers.Dropout(dropout_rate))\n",
        "            \n",
        "            model.add(keras.layers.GRU(units = 50, return_sequences = False, kernel_regularizer = reg)) \n",
        "            model.add(keras.layers.Dropout(dropout_rate))\n",
        "\n",
        "        model.add(keras.layers.Dense(1, activation = 'relu'))\n",
        "\n",
        "        optimizer = keras.optimizers.Adam(learning_rate = 0.0075, epsilon = 1e-08)\n",
        "        model.compile(optimizer = optimizer, loss = loss, metrics = ['accuracy'])\n",
        "\n",
        "        return model\n",
        "\n"
      ],
      "execution_count": 0,
      "outputs": []
    },
    {
      "cell_type": "markdown",
      "metadata": {
        "id": "J3yvuxafanBp",
        "colab_type": "text"
      },
      "source": [
        "# Training the Network"
      ]
    },
    {
      "cell_type": "code",
      "metadata": {
        "id": "KCpvoJ0iaVe8",
        "colab_type": "code",
        "colab": {
          "base_uri": "https://localhost:8080/",
          "height": 1000
        },
        "outputId": "72d0fd10-87a5-48bc-9b0b-1bae2b86fc1c"
      },
      "source": [
        "timesteps = x_train.shape[1]\n",
        "\n",
        "gru1 = gru()\n",
        "\n",
        "# build model 1 with 3 layer and 50 units, dropout 0.2, not L2 reg\n",
        "model = gru1.build(3, 50, timesteps)\n",
        "\n",
        "tb_callback = keras.callbacks.TensorBoard(histogram_freq = 1)\n",
        "\n",
        "model.fit(x_train, y_train, epochs = 75, validation_data = (x_val, y_val), callbacks = [tb_callback])"
      ],
      "execution_count": 13,
      "outputs": [
        {
          "output_type": "stream",
          "text": [
            "Train on 6862 samples, validate on 857 samples\n",
            "Epoch 1/75\n",
            "6862/6862 [==============================] - 7s 972us/sample - loss: 0.0045 - accuracy: 2.9146e-04 - val_loss: 2.7218e-04 - val_accuracy: 0.0000e+00\n",
            "Epoch 2/75\n",
            "6862/6862 [==============================] - 4s 519us/sample - loss: 0.0012 - accuracy: 2.9146e-04 - val_loss: 2.0240e-04 - val_accuracy: 0.0000e+00\n",
            "Epoch 3/75\n",
            "6862/6862 [==============================] - 4s 532us/sample - loss: 9.2162e-04 - accuracy: 2.9146e-04 - val_loss: 0.0012 - val_accuracy: 0.0000e+00\n",
            "Epoch 4/75\n",
            "6862/6862 [==============================] - 4s 537us/sample - loss: 9.4321e-04 - accuracy: 2.9146e-04 - val_loss: 1.9737e-04 - val_accuracy: 0.0000e+00\n",
            "Epoch 5/75\n",
            "6862/6862 [==============================] - 4s 525us/sample - loss: 7.5797e-04 - accuracy: 2.9146e-04 - val_loss: 0.0014 - val_accuracy: 0.0000e+00\n",
            "Epoch 6/75\n",
            "6862/6862 [==============================] - 4s 540us/sample - loss: 7.2707e-04 - accuracy: 2.9146e-04 - val_loss: 0.0010 - val_accuracy: 0.0000e+00\n",
            "Epoch 7/75\n",
            "6862/6862 [==============================] - 4s 539us/sample - loss: 7.3326e-04 - accuracy: 2.9146e-04 - val_loss: 3.1102e-04 - val_accuracy: 0.0000e+00\n",
            "Epoch 8/75\n",
            "6862/6862 [==============================] - 4s 556us/sample - loss: 6.9219e-04 - accuracy: 2.9146e-04 - val_loss: 0.0016 - val_accuracy: 0.0000e+00\n",
            "Epoch 9/75\n",
            "6862/6862 [==============================] - 4s 536us/sample - loss: 6.7807e-04 - accuracy: 2.9146e-04 - val_loss: 4.6936e-04 - val_accuracy: 0.0000e+00\n",
            "Epoch 10/75\n",
            "6862/6862 [==============================] - 4s 525us/sample - loss: 7.6398e-04 - accuracy: 2.9146e-04 - val_loss: 4.2118e-04 - val_accuracy: 0.0000e+00\n",
            "Epoch 11/75\n",
            "6862/6862 [==============================] - 4s 517us/sample - loss: 6.5199e-04 - accuracy: 2.9146e-04 - val_loss: 1.9608e-04 - val_accuracy: 0.0000e+00\n",
            "Epoch 12/75\n",
            "6862/6862 [==============================] - 4s 528us/sample - loss: 7.5060e-04 - accuracy: 2.9146e-04 - val_loss: 5.5801e-04 - val_accuracy: 0.0000e+00\n",
            "Epoch 13/75\n",
            "6862/6862 [==============================] - 4s 533us/sample - loss: 5.9095e-04 - accuracy: 2.9146e-04 - val_loss: 6.1064e-04 - val_accuracy: 0.0000e+00\n",
            "Epoch 14/75\n",
            "6862/6862 [==============================] - 4s 534us/sample - loss: 6.8727e-04 - accuracy: 2.9146e-04 - val_loss: 3.0593e-04 - val_accuracy: 0.0000e+00\n",
            "Epoch 15/75\n",
            "6862/6862 [==============================] - 4s 533us/sample - loss: 8.4799e-04 - accuracy: 2.9146e-04 - val_loss: 1.6790e-04 - val_accuracy: 0.0000e+00\n",
            "Epoch 16/75\n",
            "6862/6862 [==============================] - 4s 522us/sample - loss: 6.8331e-04 - accuracy: 2.9146e-04 - val_loss: 3.0279e-04 - val_accuracy: 0.0000e+00\n",
            "Epoch 17/75\n",
            "6862/6862 [==============================] - 4s 518us/sample - loss: 7.5625e-04 - accuracy: 2.9146e-04 - val_loss: 3.4613e-04 - val_accuracy: 0.0000e+00\n",
            "Epoch 18/75\n",
            "6862/6862 [==============================] - 4s 534us/sample - loss: 8.1474e-04 - accuracy: 2.9146e-04 - val_loss: 2.0469e-04 - val_accuracy: 0.0000e+00\n",
            "Epoch 19/75\n",
            "6862/6862 [==============================] - 4s 530us/sample - loss: 6.4873e-04 - accuracy: 2.9146e-04 - val_loss: 0.0010 - val_accuracy: 0.0000e+00\n",
            "Epoch 20/75\n",
            "6862/6862 [==============================] - 4s 521us/sample - loss: 6.9925e-04 - accuracy: 2.9146e-04 - val_loss: 1.6641e-04 - val_accuracy: 0.0000e+00\n",
            "Epoch 21/75\n",
            "6862/6862 [==============================] - 4s 526us/sample - loss: 5.9947e-04 - accuracy: 2.9146e-04 - val_loss: 2.1336e-04 - val_accuracy: 0.0000e+00\n",
            "Epoch 22/75\n",
            "6862/6862 [==============================] - 4s 532us/sample - loss: 6.2779e-04 - accuracy: 2.9146e-04 - val_loss: 4.3804e-04 - val_accuracy: 0.0000e+00\n",
            "Epoch 23/75\n",
            "6862/6862 [==============================] - 4s 541us/sample - loss: 6.8873e-04 - accuracy: 2.9146e-04 - val_loss: 5.0201e-04 - val_accuracy: 0.0000e+00\n",
            "Epoch 24/75\n",
            "6862/6862 [==============================] - 4s 542us/sample - loss: 7.9985e-04 - accuracy: 2.9146e-04 - val_loss: 2.0201e-04 - val_accuracy: 0.0000e+00\n",
            "Epoch 25/75\n",
            "6862/6862 [==============================] - 4s 533us/sample - loss: 5.6886e-04 - accuracy: 2.9146e-04 - val_loss: 2.4904e-04 - val_accuracy: 0.0000e+00\n",
            "Epoch 26/75\n",
            "6862/6862 [==============================] - 4s 527us/sample - loss: 6.9762e-04 - accuracy: 2.9146e-04 - val_loss: 1.5151e-04 - val_accuracy: 0.0000e+00\n",
            "Epoch 27/75\n",
            "6862/6862 [==============================] - 4s 519us/sample - loss: 5.7167e-04 - accuracy: 2.9146e-04 - val_loss: 1.4378e-04 - val_accuracy: 0.0000e+00\n",
            "Epoch 28/75\n",
            "6862/6862 [==============================] - 4s 526us/sample - loss: 5.8120e-04 - accuracy: 2.9146e-04 - val_loss: 1.3460e-04 - val_accuracy: 0.0000e+00\n",
            "Epoch 29/75\n",
            "6862/6862 [==============================] - 4s 535us/sample - loss: 6.5920e-04 - accuracy: 2.9146e-04 - val_loss: 5.7839e-04 - val_accuracy: 0.0000e+00\n",
            "Epoch 30/75\n",
            "6862/6862 [==============================] - 4s 545us/sample - loss: 6.8889e-04 - accuracy: 2.9146e-04 - val_loss: 4.4680e-04 - val_accuracy: 0.0000e+00\n",
            "Epoch 31/75\n",
            "6862/6862 [==============================] - 4s 523us/sample - loss: 6.5921e-04 - accuracy: 2.9146e-04 - val_loss: 2.2251e-04 - val_accuracy: 0.0000e+00\n",
            "Epoch 32/75\n",
            "6862/6862 [==============================] - 4s 514us/sample - loss: 6.8589e-04 - accuracy: 2.9146e-04 - val_loss: 4.1436e-04 - val_accuracy: 0.0000e+00\n",
            "Epoch 33/75\n",
            "6862/6862 [==============================] - 4s 529us/sample - loss: 4.9943e-04 - accuracy: 2.9146e-04 - val_loss: 5.1490e-04 - val_accuracy: 0.0000e+00\n",
            "Epoch 34/75\n",
            "6862/6862 [==============================] - 4s 528us/sample - loss: 6.2808e-04 - accuracy: 2.9146e-04 - val_loss: 2.1479e-04 - val_accuracy: 0.0000e+00\n",
            "Epoch 35/75\n",
            "6862/6862 [==============================] - 4s 524us/sample - loss: 5.7723e-04 - accuracy: 2.9146e-04 - val_loss: 0.0011 - val_accuracy: 0.0000e+00\n",
            "Epoch 36/75\n",
            "6862/6862 [==============================] - 4s 524us/sample - loss: 6.3697e-04 - accuracy: 2.9146e-04 - val_loss: 2.9247e-04 - val_accuracy: 0.0000e+00\n",
            "Epoch 37/75\n",
            "6862/6862 [==============================] - 4s 520us/sample - loss: 5.6549e-04 - accuracy: 2.9146e-04 - val_loss: 2.3234e-04 - val_accuracy: 0.0000e+00\n",
            "Epoch 38/75\n",
            "6862/6862 [==============================] - 4s 522us/sample - loss: 5.3174e-04 - accuracy: 2.9146e-04 - val_loss: 4.3661e-04 - val_accuracy: 0.0000e+00\n",
            "Epoch 39/75\n",
            "6862/6862 [==============================] - 4s 529us/sample - loss: 6.2330e-04 - accuracy: 2.9146e-04 - val_loss: 3.5197e-04 - val_accuracy: 0.0000e+00\n",
            "Epoch 40/75\n",
            "6862/6862 [==============================] - 4s 530us/sample - loss: 5.5645e-04 - accuracy: 2.9146e-04 - val_loss: 0.0012 - val_accuracy: 0.0000e+00\n",
            "Epoch 41/75\n",
            "6862/6862 [==============================] - 4s 527us/sample - loss: 5.4079e-04 - accuracy: 2.9146e-04 - val_loss: 1.4419e-04 - val_accuracy: 0.0000e+00\n",
            "Epoch 42/75\n",
            "6862/6862 [==============================] - 4s 522us/sample - loss: 5.4845e-04 - accuracy: 2.9146e-04 - val_loss: 5.8148e-04 - val_accuracy: 0.0000e+00\n",
            "Epoch 43/75\n",
            "6862/6862 [==============================] - 4s 514us/sample - loss: 5.7546e-04 - accuracy: 2.9146e-04 - val_loss: 7.1999e-04 - val_accuracy: 0.0000e+00\n",
            "Epoch 44/75\n",
            "6862/6862 [==============================] - 4s 538us/sample - loss: 5.3589e-04 - accuracy: 2.9146e-04 - val_loss: 2.8706e-04 - val_accuracy: 0.0000e+00\n",
            "Epoch 45/75\n",
            "6862/6862 [==============================] - 4s 528us/sample - loss: 5.3494e-04 - accuracy: 2.9146e-04 - val_loss: 2.7389e-04 - val_accuracy: 0.0000e+00\n",
            "Epoch 46/75\n",
            "6862/6862 [==============================] - 4s 528us/sample - loss: 0.0066 - accuracy: 2.9146e-04 - val_loss: 0.0064 - val_accuracy: 0.0000e+00\n",
            "Epoch 47/75\n",
            "6862/6862 [==============================] - 4s 529us/sample - loss: 0.0030 - accuracy: 2.9146e-04 - val_loss: 0.0020 - val_accuracy: 0.0000e+00\n",
            "Epoch 48/75\n",
            "6862/6862 [==============================] - 4s 531us/sample - loss: 0.0024 - accuracy: 2.9146e-04 - val_loss: 0.0028 - val_accuracy: 0.0000e+00\n",
            "Epoch 49/75\n",
            "6862/6862 [==============================] - 4s 538us/sample - loss: 0.0021 - accuracy: 2.9146e-04 - val_loss: 0.0012 - val_accuracy: 0.0000e+00\n",
            "Epoch 50/75\n",
            "6862/6862 [==============================] - 4s 555us/sample - loss: 0.0016 - accuracy: 2.9146e-04 - val_loss: 0.0019 - val_accuracy: 0.0000e+00\n",
            "Epoch 51/75\n",
            "6862/6862 [==============================] - 4s 532us/sample - loss: 0.0018 - accuracy: 2.9146e-04 - val_loss: 0.0011 - val_accuracy: 0.0000e+00\n",
            "Epoch 52/75\n",
            "6862/6862 [==============================] - 4s 534us/sample - loss: 0.0015 - accuracy: 2.9146e-04 - val_loss: 0.0020 - val_accuracy: 0.0000e+00\n",
            "Epoch 53/75\n",
            "6862/6862 [==============================] - 4s 534us/sample - loss: 0.0016 - accuracy: 2.9146e-04 - val_loss: 9.8915e-04 - val_accuracy: 0.0000e+00\n",
            "Epoch 54/75\n",
            "6862/6862 [==============================] - 4s 550us/sample - loss: 0.0016 - accuracy: 2.9146e-04 - val_loss: 0.0010 - val_accuracy: 0.0000e+00\n",
            "Epoch 55/75\n",
            "6862/6862 [==============================] - 4s 543us/sample - loss: 0.0013 - accuracy: 2.9146e-04 - val_loss: 0.0019 - val_accuracy: 0.0000e+00\n",
            "Epoch 56/75\n",
            "6862/6862 [==============================] - 4s 534us/sample - loss: 0.0014 - accuracy: 2.9146e-04 - val_loss: 8.0467e-04 - val_accuracy: 0.0000e+00\n",
            "Epoch 57/75\n",
            "6862/6862 [==============================] - 4s 529us/sample - loss: 0.0013 - accuracy: 2.9146e-04 - val_loss: 7.6211e-04 - val_accuracy: 0.0000e+00\n",
            "Epoch 58/75\n",
            "6862/6862 [==============================] - 4s 530us/sample - loss: 0.0013 - accuracy: 2.9146e-04 - val_loss: 0.0016 - val_accuracy: 0.0000e+00\n",
            "Epoch 59/75\n",
            "6862/6862 [==============================] - 4s 535us/sample - loss: 0.0013 - accuracy: 2.9146e-04 - val_loss: 8.6538e-04 - val_accuracy: 0.0000e+00\n",
            "Epoch 60/75\n",
            "6862/6862 [==============================] - 4s 548us/sample - loss: 0.0012 - accuracy: 2.9146e-04 - val_loss: 9.0621e-04 - val_accuracy: 0.0000e+00\n",
            "Epoch 61/75\n",
            "6862/6862 [==============================] - 4s 531us/sample - loss: 0.0013 - accuracy: 2.9146e-04 - val_loss: 8.9644e-04 - val_accuracy: 0.0000e+00\n",
            "Epoch 62/75\n",
            "6862/6862 [==============================] - 4s 533us/sample - loss: 0.0012 - accuracy: 2.9146e-04 - val_loss: 0.0010 - val_accuracy: 0.0000e+00\n",
            "Epoch 63/75\n",
            "6862/6862 [==============================] - 4s 537us/sample - loss: 0.0012 - accuracy: 2.9146e-04 - val_loss: 5.8095e-04 - val_accuracy: 0.0000e+00\n",
            "Epoch 64/75\n",
            "6862/6862 [==============================] - 4s 537us/sample - loss: 0.0012 - accuracy: 2.9146e-04 - val_loss: 0.0036 - val_accuracy: 0.0000e+00\n",
            "Epoch 65/75\n",
            "6862/6862 [==============================] - 4s 539us/sample - loss: 0.0012 - accuracy: 2.9146e-04 - val_loss: 9.7115e-04 - val_accuracy: 0.0000e+00\n",
            "Epoch 66/75\n",
            "6862/6862 [==============================] - 4s 532us/sample - loss: 0.0012 - accuracy: 2.9146e-04 - val_loss: 0.0019 - val_accuracy: 0.0000e+00\n",
            "Epoch 67/75\n",
            "6862/6862 [==============================] - 4s 538us/sample - loss: 0.0011 - accuracy: 2.9146e-04 - val_loss: 9.2017e-04 - val_accuracy: 0.0000e+00\n",
            "Epoch 68/75\n",
            "6862/6862 [==============================] - 4s 538us/sample - loss: 0.0011 - accuracy: 2.9146e-04 - val_loss: 0.0013 - val_accuracy: 0.0000e+00\n",
            "Epoch 69/75\n",
            "6862/6862 [==============================] - 4s 535us/sample - loss: 0.0012 - accuracy: 2.9146e-04 - val_loss: 7.7240e-04 - val_accuracy: 0.0000e+00\n",
            "Epoch 70/75\n",
            "6862/6862 [==============================] - 4s 550us/sample - loss: 0.0014 - accuracy: 2.9146e-04 - val_loss: 6.2946e-04 - val_accuracy: 0.0000e+00\n",
            "Epoch 71/75\n",
            "6862/6862 [==============================] - 4s 538us/sample - loss: 0.0012 - accuracy: 2.9146e-04 - val_loss: 6.5788e-04 - val_accuracy: 0.0000e+00\n",
            "Epoch 72/75\n",
            "6862/6862 [==============================] - 4s 540us/sample - loss: 0.0012 - accuracy: 2.9146e-04 - val_loss: 6.7185e-04 - val_accuracy: 0.0000e+00\n",
            "Epoch 73/75\n",
            "6862/6862 [==============================] - 4s 526us/sample - loss: 0.0012 - accuracy: 2.9146e-04 - val_loss: 5.8051e-04 - val_accuracy: 0.0000e+00\n",
            "Epoch 74/75\n",
            "6862/6862 [==============================] - 4s 537us/sample - loss: 0.0011 - accuracy: 2.9146e-04 - val_loss: 5.8007e-04 - val_accuracy: 0.0000e+00\n",
            "Epoch 75/75\n",
            "6862/6862 [==============================] - 4s 535us/sample - loss: 0.0011 - accuracy: 2.9146e-04 - val_loss: 9.6183e-04 - val_accuracy: 0.0000e+00\n"
          ],
          "name": "stdout"
        },
        {
          "output_type": "execute_result",
          "data": {
            "text/plain": [
              "<tensorflow.python.keras.callbacks.History at 0x7f18c475cac8>"
            ]
          },
          "metadata": {
            "tags": []
          },
          "execution_count": 13
        }
      ]
    },
    {
      "cell_type": "code",
      "metadata": {
        "id": "u7_0BPM6cdAk",
        "colab_type": "code",
        "colab": {
          "base_uri": "https://localhost:8080/",
          "height": 821
        },
        "outputId": "21c9d705-2ba6-46e4-c1ce-68b12d085bc8"
      },
      "source": [
        "%load_ext tensorboard\n",
        "%tensorboard --logdir logs/"
      ],
      "execution_count": 15,
      "outputs": [
        {
          "output_type": "display_data",
          "data": {
            "application/javascript": [
              "\n",
              "  (async () => {\n",
              "      const url = await google.colab.kernel.proxyPort(6006, {\"cache\": true});\n",
              "      const iframe = document.createElement('iframe');\n",
              "      iframe.src = url;\n",
              "      iframe.setAttribute('width', '100%');\n",
              "      iframe.setAttribute('height', '800');\n",
              "      iframe.setAttribute('frameborder', 0);\n",
              "      document.body.appendChild(iframe);\n",
              "  })();\n",
              "  "
            ],
            "text/plain": [
              "<IPython.core.display.Javascript object>"
            ]
          },
          "metadata": {
            "tags": []
          }
        }
      ]
    },
    {
      "cell_type": "markdown",
      "metadata": {
        "id": "QCRdoDzQeCoV",
        "colab_type": "text"
      },
      "source": [
        "# Evaluating the Network"
      ]
    },
    {
      "cell_type": "code",
      "metadata": {
        "id": "pP7L9X_zeFYj",
        "colab_type": "code",
        "colab": {}
      },
      "source": [
        "from Myplot_class import Myplot\n",
        "myplt = Myplot()"
      ],
      "execution_count": 0,
      "outputs": []
    },
    {
      "cell_type": "code",
      "metadata": {
        "id": "zDf4W-Uterfs",
        "colab_type": "code",
        "colab": {}
      },
      "source": [
        "indices = [243,217,100,500,400,6]\n",
        "x_real = prep.rnn_reshape(x_train, to_rnn=False)\n",
        "x_test_real = prep.rnn_reshape(x_test, to_rnn=False)\n",
        "\n",
        "x_real = prep.inverse_scaling(x_real, scaler)\n",
        "y_real = prep.inverse_scaling(y_train, scaler)\n",
        "x_test_real = prep.inverse_scaling(x_test_real, scaler)\n",
        "y_test_real = prep.inverse_scaling(y_test, scaler)\n",
        "\n",
        "predictions = model.predict(x_test)\n",
        "predictions = prep.inverse_scaling(predictions, scaler)\n"
      ],
      "execution_count": 0,
      "outputs": []
    },
    {
      "cell_type": "code",
      "metadata": {
        "id": "ThA4MkBzf9Nh",
        "colab_type": "code",
        "colab": {
          "base_uri": "https://localhost:8080/",
          "height": 294
        },
        "outputId": "7303ec5e-6a6a-4596-a3de-da3a33f3519e"
      },
      "source": [
        "myplt.pred_examples(x_test_real, y_test_real, predictions, indices)"
      ],
      "execution_count": 20,
      "outputs": [
        {
          "output_type": "display_data",
          "data": {
            "image/png": "[encoded data removed]",
            "text/plain": [
              "<Figure size 432x288 with 6 Axes>"
            ]
          },
          "metadata": {
            "tags": []
          }
        }
      ]
    },
    {
      "cell_type": "code",
      "metadata": {
        "id": "df_J6W-Og4IB",
        "colab_type": "code",
        "colab": {
          "base_uri": "https://localhost:8080/",
          "height": 294
        },
        "outputId": "7c458900-4f4f-48ad-80ee-46cf4dcea222"
      },
      "source": [
        "myplt.real_vs_pred(y_test_real, predictions, \"LSTM 15 epochs CPU\")"
      ],
      "execution_count": 21,
      "outputs": [
        {
          "output_type": "display_data",
          "data": {
            "image/png": "[encoded data removed]",
            "text/plain": [
              "<Figure size 432x288 with 1 Axes>"
            ]
          },
          "metadata": {
            "tags": []
          }
        }
      ]
    }
  ]
}